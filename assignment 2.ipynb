{
 "cells": [
  {
   "cell_type": "markdown",
   "id": "e3977be5-96f5-4b7d-9435-4348553b8306",
   "metadata": {},
   "source": [
    "Q1. Which keyword is used to create a function? Create a function to return a list of odd numbers in the\n",
    "range of 1 to 25."
   ]
  },
  {
   "cell_type": "code",
   "execution_count": 2,
   "id": "051804ca-95fc-4f44-8941-daca9e232e03",
   "metadata": {},
   "outputs": [],
   "source": [
    "''' def keyword is used to create a function.'''\n",
    "def odd_num():\n",
    "    l=[]\n",
    "    for i in range(1,26):\n",
    "        if i%2!=0:\n",
    "            yield i"
   ]
  },
  {
   "cell_type": "code",
   "execution_count": 4,
   "id": "e1cc9b9f-47a2-4101-b3aa-35a2a4c392aa",
   "metadata": {},
   "outputs": [],
   "source": [
    "odd_number = odd_num()"
   ]
  },
  {
   "cell_type": "code",
   "execution_count": 6,
   "id": "10759213-3078-4bbf-a83b-6a4ffeca6561",
   "metadata": {},
   "outputs": [
    {
     "name": "stdout",
     "output_type": "stream",
     "text": [
      "1\n",
      "3\n",
      "5\n",
      "7\n",
      "9\n",
      "11\n",
      "13\n",
      "15\n",
      "17\n",
      "19\n",
      "21\n",
      "23\n",
      "25\n"
     ]
    }
   ],
   "source": [
    "for i in odd_number:\n",
    "    print(i)"
   ]
  },
  {
   "cell_type": "markdown",
   "id": "c7cf87e9-3963-407a-b18f-bde0e1bf1a55",
   "metadata": {},
   "source": [
    "Q2. Why *args and **kwargs is used in some functions? Create a function each for *args and **kwargs\n",
    "to demonstrate their use."
   ]
  },
  {
   "cell_type": "code",
   "execution_count": 20,
   "id": "e51c74ca-0d13-454a-a736-a87a425c0804",
   "metadata": {},
   "outputs": [],
   "source": [
    "'''*args and **kwargs allow you to pass multiple arguments or keyword arguments to a function.'''\n",
    "\n",
    "def test(*args):\n",
    "    return args"
   ]
  },
  {
   "cell_type": "code",
   "execution_count": 21,
   "id": "50b7da99-819a-453e-8436-fdc342360641",
   "metadata": {},
   "outputs": [
    {
     "data": {
      "text/plain": [
       "(1, 2, 3)"
      ]
     },
     "execution_count": 21,
     "metadata": {},
     "output_type": "execute_result"
    }
   ],
   "source": [
    "test(1,2,3)"
   ]
  },
  {
   "cell_type": "code",
   "execution_count": 24,
   "id": "64c37c2c-7b24-4cfb-bf79-33805b919449",
   "metadata": {},
   "outputs": [],
   "source": [
    "def test1(**kwargs):\n",
    "    return kwargs"
   ]
  },
  {
   "cell_type": "code",
   "execution_count": 25,
   "id": "3b9aa6c1-2d77-429c-b2c8-872494652d3d",
   "metadata": {},
   "outputs": [
    {
     "data": {
      "text/plain": [
       "{'a': [1, 2, 3], 'b': 'yogi', 'c': 23}"
      ]
     },
     "execution_count": 25,
     "metadata": {},
     "output_type": "execute_result"
    }
   ],
   "source": [
    "test1(a=[1,2,3],b='yogi',c=23)"
   ]
  },
  {
   "cell_type": "markdown",
   "id": "4a904cd8-1980-4e96-a8df-4a27c62c35ef",
   "metadata": {},
   "source": [
    "Q3. What is an iterator in python? Name the method used to initialise the iterator object and the method\n",
    "used for iteration. Use these methods to print the first five elements of the given list [2, 4, 6, 8, 10, 12, 14,\n",
    "16, 18, 20]."
   ]
  },
  {
   "cell_type": "code",
   "execution_count": 11,
   "id": "d340b559-b380-429e-a763-fb75d9fcc810",
   "metadata": {},
   "outputs": [],
   "source": [
    "'''An iterator in Python is an object that contains a countable number of elements that can be iterated upon. In simpler words, we can say that Iterators are objects that allow you to traverse through all the elements of a collection and return one element at a time.'''\n",
    "\n",
    "''' iter() method is used to initialise the iterator object and next() method is used for iteration'''\n",
    "\n",
    "l=[2,4,6,8,10,12,14,16,18,20]\n",
    "\n",
    "def test2(l):\n",
    "    for i in l:\n",
    "        yield i"
   ]
  },
  {
   "cell_type": "code",
   "execution_count": 13,
   "id": "1e1337e0-eb30-4075-a80e-2f04684b9815",
   "metadata": {},
   "outputs": [],
   "source": [
    "first_5 = test2(l)"
   ]
  },
  {
   "cell_type": "code",
   "execution_count": 14,
   "id": "d7b58684-016d-4715-91db-6b272d550646",
   "metadata": {},
   "outputs": [
    {
     "name": "stdout",
     "output_type": "stream",
     "text": [
      "2\n",
      "4\n",
      "6\n",
      "8\n",
      "10\n"
     ]
    }
   ],
   "source": [
    "for i in range(5):\n",
    "    print(next(first_5))"
   ]
  },
  {
   "cell_type": "markdown",
   "id": "61ae26d3-b893-4514-bc6d-b7b25bd7fa78",
   "metadata": {},
   "source": [
    "Q4. What is a generator function in python? Why yield keyword is used? Give an example of a generator\n",
    "function."
   ]
  },
  {
   "cell_type": "code",
   "execution_count": 35,
   "id": "5567e353-cd74-4f1b-8b8c-c40ab52bebde",
   "metadata": {},
   "outputs": [
    {
     "name": "stdin",
     "output_type": "stream",
     "text": [
      "enter the number you want to count 5\n"
     ]
    }
   ],
   "source": [
    "''' A Python generator function allows you to declare a function that behaves like an iterator, providing a faster and easier way to create iterators.'''\n",
    "'''yield keyword is used to create a generator function.'''\n",
    "\n",
    "''' example of a generator function that generates a sequence numbers.'''\n",
    "\n",
    "n = int(input(\"enter the number you want to count\"))\n",
    "\n",
    "def test3(n):\n",
    "    i=1\n",
    "    while i<=n:\n",
    "        yield i\n",
    "        i=i+1\n",
    "        "
   ]
  },
  {
   "cell_type": "code",
   "execution_count": 36,
   "id": "4facee18-68c1-4ac7-9d79-7a927ec257fd",
   "metadata": {},
   "outputs": [],
   "source": [
    "numbers = test3(n)"
   ]
  },
  {
   "cell_type": "code",
   "execution_count": 37,
   "id": "78bf5cd3-1559-44e9-8526-85cae9701f8a",
   "metadata": {},
   "outputs": [
    {
     "data": {
      "text/plain": [
       "1"
      ]
     },
     "execution_count": 37,
     "metadata": {},
     "output_type": "execute_result"
    }
   ],
   "source": [
    "next(numbers)"
   ]
  },
  {
   "cell_type": "code",
   "execution_count": 38,
   "id": "1fcb5a77-1c09-4bd1-a845-c54c8fef3a12",
   "metadata": {},
   "outputs": [
    {
     "data": {
      "text/plain": [
       "2"
      ]
     },
     "execution_count": 38,
     "metadata": {},
     "output_type": "execute_result"
    }
   ],
   "source": [
    "next(numbers)"
   ]
  },
  {
   "cell_type": "code",
   "execution_count": 39,
   "id": "cb24a7e1-dc2f-4b9a-bc90-c9fd48c383a1",
   "metadata": {},
   "outputs": [
    {
     "data": {
      "text/plain": [
       "3"
      ]
     },
     "execution_count": 39,
     "metadata": {},
     "output_type": "execute_result"
    }
   ],
   "source": [
    "next(numbers)"
   ]
  },
  {
   "cell_type": "code",
   "execution_count": 40,
   "id": "818f329a-5eb5-4769-b36c-b4263e9604ea",
   "metadata": {},
   "outputs": [
    {
     "data": {
      "text/plain": [
       "4"
      ]
     },
     "execution_count": 40,
     "metadata": {},
     "output_type": "execute_result"
    }
   ],
   "source": [
    "next(numbers)"
   ]
  },
  {
   "cell_type": "code",
   "execution_count": 41,
   "id": "ee62ec1f-1438-48ef-afca-a0a8b45f29bf",
   "metadata": {},
   "outputs": [
    {
     "data": {
      "text/plain": [
       "5"
      ]
     },
     "execution_count": 41,
     "metadata": {},
     "output_type": "execute_result"
    }
   ],
   "source": [
    "next(numbers)"
   ]
  },
  {
   "cell_type": "markdown",
   "id": "21cbbf58-9512-45fa-8eb7-6d9b213f66f4",
   "metadata": {},
   "source": [
    "Q5. Create a generator function for prime numbers less than 1000. Use the next() method to print the\n",
    "first 20 prime numbers."
   ]
  },
  {
   "cell_type": "code",
   "execution_count": 93,
   "id": "34068d21-8b9d-44bc-869e-4af3a5459a64",
   "metadata": {},
   "outputs": [],
   "source": [
    "def getprimes(n):\n",
    "    prime = True \n",
    "    i=2\n",
    "    while(i<n):\n",
    "        for a in range(2,i):\n",
    "            if(i%a==0):\n",
    "                prime=False\n",
    "                break\n",
    "        if(prime):\n",
    "            yield i\n",
    "        i=i+1"
   ]
  },
  {
   "cell_type": "code",
   "execution_count": 94,
   "id": "d649f6b8-866f-42de-8434-6a0fd4540147",
   "metadata": {},
   "outputs": [],
   "source": [
    "p = getprimes(1000)"
   ]
  },
  {
   "cell_type": "code",
   "execution_count": 95,
   "id": "67911cfd-c45d-4b76-9cd7-0ff4ee7eefa8",
   "metadata": {},
   "outputs": [
    {
     "name": "stdout",
     "output_type": "stream",
     "text": [
      "2\n",
      "3\n"
     ]
    },
    {
     "ename": "StopIteration",
     "evalue": "",
     "output_type": "error",
     "traceback": [
      "\u001b[0;31m---------------------------------------------------------------------------\u001b[0m",
      "\u001b[0;31mStopIteration\u001b[0m                             Traceback (most recent call last)",
      "Cell \u001b[0;32mIn[95], line 2\u001b[0m\n\u001b[1;32m      1\u001b[0m \u001b[38;5;28;01mfor\u001b[39;00m j \u001b[38;5;129;01min\u001b[39;00m \u001b[38;5;28mrange\u001b[39m(\u001b[38;5;241m20\u001b[39m):\n\u001b[0;32m----> 2\u001b[0m     \u001b[38;5;28mprint\u001b[39m(\u001b[38;5;28;43mnext\u001b[39;49m\u001b[43m(\u001b[49m\u001b[43mp\u001b[49m\u001b[43m)\u001b[49m)\n",
      "\u001b[0;31mStopIteration\u001b[0m: "
     ]
    }
   ],
   "source": [
    "for j in range(20):\n",
    "    print(next(p))"
   ]
  },
  {
   "cell_type": "code",
   "execution_count": 36,
   "id": "4b65e87e-4e1f-406d-8dc6-06346af7617e",
   "metadata": {},
   "outputs": [
    {
     "name": "stdin",
     "output_type": "stream",
     "text": [
      "enter the terms you want : 10\n"
     ]
    },
    {
     "name": "stdout",
     "output_type": "stream",
     "text": [
      "fibonacci series upto 10 :\n",
      "0\n",
      "1\n",
      "1\n",
      "2\n",
      "3\n",
      "5\n",
      "8\n",
      "13\n",
      "21\n",
      "34\n"
     ]
    }
   ],
   "source": [
    "n = int(input(\"enter the terms you want :\"))\n",
    "\n",
    "a,b=0,1\n",
    "count =0 \n",
    "\n",
    "if n<=0:\n",
    "    print(\"please enter a positive number\")\n",
    "elif n==1:\n",
    "    print(\"fibonacci series upto 1 : 1\")\n",
    "else: \n",
    "    print(\"fibonacci series upto\",n,\":\")\n",
    "    while count<n:\n",
    "        print(a)\n",
    "        c=a+b\n",
    "        a=b\n",
    "        b=c\n",
    "        count=count+1\n",
    "        "
   ]
  },
  {
   "cell_type": "markdown",
   "id": "0a44d2ba-15b6-42f8-8e85-4c82ae293538",
   "metadata": {},
   "source": [
    "Q7. Write a List Comprehension to iterate through the given string: ‘pwskills’.\n",
    "Expected output: ['p', 'w', 's', 'k', 'i', 'l', 'l', 's']"
   ]
  },
  {
   "cell_type": "code",
   "execution_count": 91,
   "id": "889c58d3-93ae-4f6e-bebc-8d737344063f",
   "metadata": {},
   "outputs": [],
   "source": [
    "yogi = 'pwskills'\n",
    "ans = []\n",
    "a = [ans.append(i.split()) for i in yogi]"
   ]
  },
  {
   "cell_type": "code",
   "execution_count": 92,
   "id": "80ff9172-f694-49cb-aecb-780f23de5a58",
   "metadata": {},
   "outputs": [
    {
     "data": {
      "text/plain": [
       "[['p'], ['w'], ['s'], ['k'], ['i'], ['l'], ['l'], ['s']]"
      ]
     },
     "execution_count": 92,
     "metadata": {},
     "output_type": "execute_result"
    }
   ],
   "source": [
    "ans"
   ]
  },
  {
   "cell_type": "markdown",
   "id": "87f080d9-59ef-49a5-8ebb-9b03acf4431d",
   "metadata": {},
   "source": [
    "Q8. Write a python program to check whether a given number is Palindrome or not using a while loop."
   ]
  },
  {
   "cell_type": "code",
   "execution_count": 2,
   "id": "37b28b1a-8570-4bee-8ce1-f1279e83f5df",
   "metadata": {},
   "outputs": [
    {
     "name": "stdin",
     "output_type": "stream",
     "text": [
      "enter your number 121\n"
     ]
    },
    {
     "name": "stdout",
     "output_type": "stream",
     "text": [
      "the given number is pailndrome\n"
     ]
    }
   ],
   "source": [
    "n = int(input('enter your number'))\n",
    "\n",
    "m=int((str(n)[::-1]))\n",
    "\n",
    "while n==m:\n",
    "    print('the given number is pailndrome')\n",
    "    break\n",
    "    "
   ]
  },
  {
   "cell_type": "markdown",
   "id": "aef39322-7cc0-4240-8d8d-91c6bfd06d5f",
   "metadata": {},
   "source": [
    "Q9. Write a code to print odd numbers from 1 to 100 using list comprehension."
   ]
  },
  {
   "cell_type": "code",
   "execution_count": 3,
   "id": "b15aa606-56ae-459f-ba4a-253dd698995e",
   "metadata": {},
   "outputs": [
    {
     "data": {
      "text/plain": [
       "[1,\n",
       " 3,\n",
       " 5,\n",
       " 7,\n",
       " 9,\n",
       " 11,\n",
       " 13,\n",
       " 15,\n",
       " 17,\n",
       " 19,\n",
       " 21,\n",
       " 23,\n",
       " 25,\n",
       " 27,\n",
       " 29,\n",
       " 31,\n",
       " 33,\n",
       " 35,\n",
       " 37,\n",
       " 39,\n",
       " 41,\n",
       " 43,\n",
       " 45,\n",
       " 47,\n",
       " 49,\n",
       " 51,\n",
       " 53,\n",
       " 55,\n",
       " 57,\n",
       " 59,\n",
       " 61,\n",
       " 63,\n",
       " 65,\n",
       " 67,\n",
       " 69,\n",
       " 71,\n",
       " 73,\n",
       " 75,\n",
       " 77,\n",
       " 79,\n",
       " 81,\n",
       " 83,\n",
       " 85,\n",
       " 87,\n",
       " 89,\n",
       " 91,\n",
       " 93,\n",
       " 95,\n",
       " 97,\n",
       " 99]"
      ]
     },
     "execution_count": 3,
     "metadata": {},
     "output_type": "execute_result"
    }
   ],
   "source": [
    "[i for i in range(1,101) if i%2!=0]"
   ]
  },
  {
   "cell_type": "code",
   "execution_count": null,
   "id": "8ad5fd51-6ffd-4ea6-82cf-b661a9390d94",
   "metadata": {},
   "outputs": [],
   "source": []
  }
 ],
 "metadata": {
  "kernelspec": {
   "display_name": "Python 3 (ipykernel)",
   "language": "python",
   "name": "python3"
  },
  "language_info": {
   "codemirror_mode": {
    "name": "ipython",
    "version": 3
   },
   "file_extension": ".py",
   "mimetype": "text/x-python",
   "name": "python",
   "nbconvert_exporter": "python",
   "pygments_lexer": "ipython3",
   "version": "3.10.8"
  }
 },
 "nbformat": 4,
 "nbformat_minor": 5
}
